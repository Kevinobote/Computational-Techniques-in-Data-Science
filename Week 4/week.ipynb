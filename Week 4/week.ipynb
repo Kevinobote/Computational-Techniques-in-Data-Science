{
 "cells": [
  {
   "cell_type": "markdown",
   "metadata": {},
   "source": [
    "# Week 4 Assignment - Graph Theory Problems\n",
    "## Kevin Obote - 190696\n",
    "\n",
    "This notebook implements solutions for three graph theory problems using different algorithms:\n",
    "1. Dijkstra's Algorithm for Shortest Path\n",
    "2. PageRank Algorithm for Influence Analysis\n",
    "3. Ford-Fulkerson Algorithm for Maximum Flow"
   ]
  },
  {
   "cell_type": "code",
   "execution_count": 1,
   "metadata": {},
   "outputs": [],
   "source": [
    "# Import necessary libraries\n",
    "import heapq\n",
    "from collections import defaultdict, deque\n",
    "import numpy as np"
   ]
  },
  {
   "cell_type": "markdown",
   "metadata": {},
   "source": [
    "## Question 1: Shortest Path in a Road Network (Dijkstra's Algorithm)"
   ]
  },
  {
   "cell_type": "code",
   "execution_count": 2,
   "metadata": {},
   "outputs": [],
   "source": [
    "def dijkstra(graph, start, end):\n",
    "    \"\"\"\n",
    "    Implements Dijkstra's algorithm to find the shortest path between two nodes.\n",
    "    \n",
    "    Args:\n",
    "        graph (dict): Adjacency list representation of the graph\n",
    "        start (str): Starting node\n",
    "        end (str): Target node\n",
    "    \n",
    "    Returns:\n",
    "        tuple: (shortest distance, path)\n",
    "    \"\"\"\n",
    "    # Initialize distances and paths\n",
    "    distances = {node: float('infinity') for node in graph}\n",
    "    distances[start] = 0\n",
    "    paths = {node: [] for node in graph}\n",
    "    paths[start] = [start]\n",
    "    \n",
    "    # Priority queue to store (distance, node)\n",
    "    pq = [(0, start)]\n",
    "    \n",
    "    while pq:\n",
    "        current_distance, current_node = heapq.heappop(pq)\n",
    "        \n",
    "        # If we've reached the end node\n",
    "        if current_node == end:\n",
    "            return current_distance, paths[current_node]\n",
    "        \n",
    "        # If we've found a longer path\n",
    "        if current_distance > distances[current_node]:\n",
    "            continue\n",
    "            \n",
    "        # Check all neighboring nodes\n",
    "        for neighbor, weight in graph[current_node].items():\n",
    "            distance = current_distance + weight\n",
    "            \n",
    "            # If we've found a shorter path\n",
    "            if distance < distances[neighbor]:\n",
    "                distances[neighbor] = distance\n",
    "                paths[neighbor] = paths[current_node] + [neighbor]\n",
    "                heapq.heappush(pq, (distance, neighbor))\n",
    "    \n",
    "    return float('infinity'), []"
   ]
  },
  {
   "cell_type": "code",
   "execution_count": 3,
   "metadata": {},
   "outputs": [
    {
     "name": "stdout",
     "output_type": "stream",
     "text": [
      "Shortest Path Analysis for Home Logistics:\n",
      "Shortest distance from City A to City F: 7 km\n",
      "Path: A -> C -> D -> F\n"
     ]
    }
   ],
   "source": [
    "# Test the Dijkstra's algorithm implementation\n",
    "roads = {\n",
    "    'A': {'B': 4, 'C': 2},\n",
    "    'B': {'A': 4, 'C': 5, 'D': 10},\n",
    "    'C': {'A': 2, 'B': 5, 'D': 3, 'E': 8},\n",
    "    'D': {'B': 10, 'C': 3, 'E': 6, 'F': 2},\n",
    "    'E': {'C': 8, 'D': 6, 'F': 4},\n",
    "    'F': {'D': 2, 'E': 4}\n",
    "}\n",
    "\n",
    "# Find shortest path from A to F\n",
    "distance, path = dijkstra(roads, 'A', 'F')\n",
    "\n",
    "print(\"Shortest Path Analysis for Home Logistics:\")\n",
    "print(f\"Shortest distance from City A to City F: {distance} km\")\n",
    "print(f\"Path: {' -> '.join(path)}\")"
   ]
  },
  {
   "cell_type": "markdown",
   "metadata": {},
   "source": [
    "## Question 2: Influence Analysis in a Social Network (PageRank Algorithm)"
   ]
  },
  {
   "cell_type": "code",
   "execution_count": 4,
   "metadata": {},
   "outputs": [],
   "source": [
    "def pagerank(graph, damping_factor=0.85, epsilon=1e-8, max_iterations=100):\n",
    "    \"\"\"\n",
    "    Implements PageRank algorithm to rank nodes by importance.\n",
    "    \n",
    "    Args:\n",
    "        graph (dict): Adjacency list representation of the graph\n",
    "        damping_factor (float): Damping factor for PageRank\n",
    "        epsilon (float): Convergence threshold\n",
    "        max_iterations (int): Maximum number of iterations\n",
    "    \n",
    "    Returns:\n",
    "        dict: Node rankings\n",
    "    \"\"\"\n",
    "    # Initialize PageRank scores\n",
    "    n = len(graph)\n",
    "    scores = {node: 1/n for node in graph}\n",
    "    \n",
    "    # Create reverse graph for incoming links\n",
    "    incoming = defaultdict(list)\n",
    "    for node, edges in graph.items():\n",
    "        for target in edges:\n",
    "            incoming[target].append(node)\n",
    "    \n",
    "    # Iterate until convergence\n",
    "    for _ in range(max_iterations):\n",
    "        new_scores = {}\n",
    "        total_diff = 0\n",
    "        \n",
    "        for node in graph:\n",
    "            # Random jump probability\n",
    "            new_score = (1 - damping_factor) / n\n",
    "            \n",
    "            # Add contribution from incoming nodes\n",
    "            for source in incoming[node]:\n",
    "                new_score += damping_factor * scores[source] / len(graph[source])\n",
    "                \n",
    "            total_diff += abs(new_score - scores[node])\n",
    "            new_scores[node] = new_score\n",
    "        \n",
    "        scores = new_scores\n",
    "        \n",
    "        # Check for convergence\n",
    "        if total_diff < epsilon:\n",
    "            break\n",
    "    \n",
    "    return scores"
   ]
  },
  {
   "cell_type": "code",
   "execution_count": 5,
   "metadata": {},
   "outputs": [
    {
     "name": "stdout",
     "output_type": "stream",
     "text": [
      "Social Network Influence Analysis:\n",
      "\n",
      "PageRank scores for each user:\n",
      "David: 0.2926\n",
      "Alice: 0.2915\n",
      "Charlie: 0.2320\n",
      "Bob: 0.1539\n",
      "Eve: 0.0300\n",
      "\n",
      "Most influential user: David\n"
     ]
    }
   ],
   "source": [
    "# Test the PageRank implementation\n",
    "followers = {\n",
    "    'Alice': ['Bob', 'Charlie'],\n",
    "    'Bob': ['Charlie', 'David'],\n",
    "    'Charlie': ['David'],\n",
    "    'David': ['Alice'],\n",
    "    'Eve': ['Alice', 'Charlie']\n",
    "}\n",
    "\n",
    "# Calculate PageRank scores\n",
    "rankings = pagerank(followers)\n",
    "\n",
    "print(\"Social Network Influence Analysis:\")\n",
    "print(\"\\nPageRank scores for each user:\")\n",
    "for user, score in sorted(rankings.items(), key=lambda x: x[1], reverse=True):\n",
    "    print(f\"{user}: {score:.4f}\")\n",
    "\n",
    "most_influential = max(rankings.items(), key=lambda x: x[1])[0]\n",
    "print(f\"\\nMost influential user: {most_influential}\")"
   ]
  },
  {
   "cell_type": "markdown",
   "metadata": {},
   "source": [
    "## Question 3: Maximum Flow in a Water Distribution System (Ford-Fulkerson Algorithm)"
   ]
  },
  {
   "cell_type": "code",
   "execution_count": 6,
   "metadata": {},
   "outputs": [],
   "source": [
    "def find_path(graph, source, sink, path, visited):\n",
    "    \"\"\"\n",
    "    Uses DFS to find an augmenting path from source to sink.\n",
    "    \n",
    "    Args:\n",
    "        graph (dict): Residual graph\n",
    "        source (str): Source node\n",
    "        sink (str): Sink node\n",
    "        path (list): Current path\n",
    "        visited (set): Visited nodes\n",
    "    \n",
    "    Returns:\n",
    "        list: Augmenting path if found, else None\n",
    "    \"\"\"\n",
    "    if source == sink:\n",
    "        return path\n",
    "    \n",
    "    visited.add(source)\n",
    "    \n",
    "    for next_node, capacity in graph[source].items():\n",
    "        if next_node not in visited and capacity > 0:\n",
    "            result = find_path(graph, next_node, sink, path + [next_node], visited)\n",
    "            if result is not None:\n",
    "                return result\n",
    "    \n",
    "    return None\n",
    "\n",
    "def ford_fulkerson(graph, source, sink):\n",
    "    \"\"\"\n",
    "    Implements Ford-Fulkerson algorithm to find maximum flow.\n",
    "    \n",
    "    Args:\n",
    "        graph (dict): Network with capacities\n",
    "        source (str): Source node\n",
    "        sink (str): Sink node\n",
    "    \n",
    "    Returns:\n",
    "        int: Maximum flow\n",
    "    \"\"\"\n",
    "    # Create residual graph\n",
    "    residual = defaultdict(dict)\n",
    "    for u in graph:\n",
    "        for v, cap in graph[u].items():\n",
    "            residual[u][v] = cap\n",
    "            residual[v][u] = 0\n",
    "    \n",
    "    max_flow = 0\n",
    "    \n",
    "    while True:\n",
    "        # Find an augmenting path\n",
    "        path = find_path(residual, source, sink, [source], set())\n",
    "        if path is None:\n",
    "            break\n",
    "            \n",
    "        # Find minimum capacity in the path\n",
    "        flow = float('infinity')\n",
    "        for i in range(len(path)-1):\n",
    "            u, v = path[i], path[i+1]\n",
    "            flow = min(flow, residual[u][v])\n",
    "        \n",
    "        # Update residual capacities\n",
    "        for i in range(len(path)-1):\n",
    "            u, v = path[i], path[i+1]\n",
    "            residual[u][v] -= flow\n",
    "            residual[v][u] += flow\n",
    "        \n",
    "        max_flow += flow\n",
    "    \n",
    "    return max_flow"
   ]
  },
  {
   "cell_type": "code",
   "execution_count": 7,
   "metadata": {},
   "outputs": [
    {
     "name": "stdout",
     "output_type": "stream",
     "text": [
      "Water Distribution System Analysis:\n",
      "Maximum flow from reservoir (S) to distribution center (T): 23 units\n"
     ]
    }
   ],
   "source": [
    "# Test the Ford-Fulkerson implementation\n",
    "water_network = {\n",
    "    'S': {'A': 16, 'B': 13},\n",
    "    'A': {'B': 10, 'C': 12},\n",
    "    'B': {'D': 14},\n",
    "    'C': {'B': 9, 'T': 20},\n",
    "    'D': {'C': 7, 'T': 4},\n",
    "    'T': {}\n",
    "}\n",
    "\n",
    "# Calculate maximum flow\n",
    "max_flow = ford_fulkerson(water_network, 'S', 'T')\n",
    "\n",
    "print(\"Water Distribution System Analysis:\")\n",
    "print(f\"Maximum flow from reservoir (S) to distribution center (T): {max_flow} units\")"
   ]
  },
  {
   "cell_type": "code",
   "execution_count": null,
   "metadata": {},
   "outputs": [],
   "source": []
  }
 ],
 "metadata": {
  "kernelspec": {
   "display_name": "base",
   "language": "python",
   "name": "python3"
  },
  "language_info": {
   "codemirror_mode": {
    "name": "ipython",
    "version": 3
   },
   "file_extension": ".py",
   "mimetype": "text/x-python",
   "name": "python",
   "nbconvert_exporter": "python",
   "pygments_lexer": "ipython3",
   "version": "3.11.7"
  }
 },
 "nbformat": 4,
 "nbformat_minor": 4
}
