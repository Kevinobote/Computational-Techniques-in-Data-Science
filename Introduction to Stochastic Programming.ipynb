{
 "cells": [
  {
   "cell_type": "code",
   "execution_count": 8,
   "metadata": {},
   "outputs": [],
   "source": [
    "import numpy as np\n",
    "import cvxpy as cp"
   ]
  },
  {
   "cell_type": "code",
   "execution_count": 14,
   "metadata": {},
   "outputs": [],
   "source": [
    "# Deceison variables\n",
    "x = cp.Variable()"
   ]
  },
  {
   "cell_type": "code",
   "execution_count": 15,
   "metadata": {},
   "outputs": [],
   "source": [
    "scenarios = np.array([10,20,30])\n",
    "probabilities = np.array([0.3,0.5,0.2])"
   ]
  },
  {
   "cell_type": "code",
   "execution_count": 16,
   "metadata": {},
   "outputs": [],
   "source": [
    "# cost function\n",
    "cost = cp.sum(cp.multiply(probabilities, cp.pos(x-scenarios)))\n",
    "objective = cp.Minimize(cost)\n",
    "contraints = [x >= 0]"
   ]
  },
  {
   "cell_type": "code",
   "execution_count": 17,
   "metadata": {},
   "outputs": [
    {
     "data": {
      "text/plain": [
       "0.0"
      ]
     },
     "execution_count": 17,
     "metadata": {},
     "output_type": "execute_result"
    }
   ],
   "source": [
    "# Solve the problem\n",
    "problem = cp.Problem(objective, contraints)\n",
    "problem.solve()"
   ]
  },
  {
   "cell_type": "code",
   "execution_count": 18,
   "metadata": {},
   "outputs": [
    {
     "name": "stdout",
     "output_type": "stream",
     "text": [
      "Optimal value:  0.0\n",
      "Optimal var:  7.570821844198974\n"
     ]
    }
   ],
   "source": [
    "# print\n",
    "print(\"Optimal value: \", problem.value)\n",
    "print(\"Optimal var: \", x.value)"
   ]
  },
  {
   "cell_type": "code",
   "execution_count": 19,
   "metadata": {},
   "outputs": [],
   "source": [
    "## Example Portfolio Optimization\n",
    "## Simulate returns for 4 assets over 100 scenarios\n",
    "returns = np.random.normal(0.01, 0.02,(100,4))"
   ]
  },
  {
   "cell_type": "code",
   "execution_count": 20,
   "metadata": {},
   "outputs": [],
   "source": [
    "# Define descision variables for assets\n",
    "weights = cp.Variable(4)"
   ]
  },
  {
   "cell_type": "code",
   "execution_count": 21,
   "metadata": {},
   "outputs": [],
   "source": [
    "# Compute the expected return\n",
    "expected_return = cp.sum(cp.multiply(cp.mean(returns, axis=0), weights))"
   ]
  },
  {
   "cell_type": "code",
   "execution_count": 22,
   "metadata": {},
   "outputs": [],
   "source": [
    "# Risk. L2-norm as variance proxy\n",
    "risk = cp.norm(returns@weights, 2)"
   ]
  },
  {
   "cell_type": "code",
   "execution_count": 23,
   "metadata": {},
   "outputs": [],
   "source": [
    "# Objective\n",
    "objective = cp.Maximize(expected_return - 0.1*risk)"
   ]
  },
  {
   "cell_type": "code",
   "execution_count": 24,
   "metadata": {},
   "outputs": [],
   "source": [
    "# Constraints\n",
    "constraints = [cp.sum(weights) == 1, weights >= 0]"
   ]
  },
  {
   "cell_type": "code",
   "execution_count": 25,
   "metadata": {},
   "outputs": [
    {
     "data": {
      "text/plain": [
       "-0.005386339193840595"
      ]
     },
     "execution_count": 25,
     "metadata": {},
     "output_type": "execute_result"
    }
   ],
   "source": [
    "# Solve\n",
    "problem = cp.Problem(objective, constraints)\n",
    "problem.solve()"
   ]
  },
  {
   "cell_type": "code",
   "execution_count": 26,
   "metadata": {},
   "outputs": [
    {
     "name": "stdout",
     "output_type": "stream",
     "text": [
      "Optimal weights:  [0.20554861 0.27395582 0.23223905 0.28825652]\n",
      "Expected return:  0.007204703925216721\n",
      "Risk:  0.12591043119057316\n",
      "Optimal value:  -0.005386339193840595\n"
     ]
    }
   ],
   "source": [
    "# Optimal weights\n",
    "print(\"Optimal weights: \", weights.value)\n",
    "print(\"Expected return: \", expected_return.value)\n",
    "print(\"Risk: \", risk.value)\n",
    "print(\"Optimal value: \", problem.value)\n"
   ]
  }
 ],
 "metadata": {
  "kernelspec": {
   "display_name": "base",
   "language": "python",
   "name": "python3"
  },
  "language_info": {
   "codemirror_mode": {
    "name": "ipython",
    "version": 3
   },
   "file_extension": ".py",
   "mimetype": "text/x-python",
   "name": "python",
   "nbconvert_exporter": "python",
   "pygments_lexer": "ipython3",
   "version": "3.11.7"
  }
 },
 "nbformat": 4,
 "nbformat_minor": 2
}
