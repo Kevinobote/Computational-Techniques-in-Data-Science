{
 "cells": [
  {
   "cell_type": "code",
   "execution_count": 1,
   "metadata": {},
   "outputs": [],
   "source": [
    "from scipy.optimize import linprog\n",
    "import numpy as np"
   ]
  },
  {
   "cell_type": "markdown",
   "metadata": {},
   "source": [
    "# **Practice Question 1: Manufacturing Optimization**\n",
    "\n",
    "A factory produces two types of products: **Product A** and **Product B**.  \n",
    "\n",
    "- The profit for **Product A** is **$20 per unit**.  \n",
    "- The profit for **Product B** is **$30 per unit**.  \n",
    "\n",
    "### **Production Requirements:**\n",
    "| Product  | Labor Required (hours) | Raw Material Required (units) |\n",
    "|----------|------------------------|-------------------------------|\n",
    "| Product A | 2 hours                 | 1 unit                        |\n",
    "| Product B | 1 hour                  | 2 units                       |\n",
    "\n",
    "### **Available Resources:**\n",
    "- **Total Labor Available:** 100 hours  \n",
    "- **Total Raw Material Available:** 80 units  \n",
    "\n",
    "### **Objective:**  \n",
    "Find the optimal number of **Product A** and **Product B** to produce in order to **maximize profit** while staying within the available labor and raw material limits.  \n"
   ]
  },
  {
   "cell_type": "code",
   "execution_count": 2,
   "metadata": {},
   "outputs": [],
   "source": [
    "from scipy.optimize import linprog\n",
    "\n",
    "# Coefficients for the objective function (negative for maximization)\n",
    "c = [-20, -30]  # Maximize 20A + 30B -> Minimize -20A - 30B\n",
    "\n",
    "# Coefficients for inequality constraints (Ax <= b)\n",
    "A = [\n",
    "    [2, 1],  # 2A + B <= 100 (Labor constraint)\n",
    "    [1, 2]   # A + 2B <= 80 (Raw Material constraint)\n",
    "]\n",
    "b = [100, 80]\n",
    "\n",
    "# Bounds for A and B (non-negative)\n",
    "x_bounds = [(0, None), (0, None)]\n",
    "\n",
    "# Solve the linear programming problem\n",
    "result = linprog(c, A_ub=A, b_ub=b, bounds=x_bounds, method='highs')\n"
   ]
  },
  {
   "cell_type": "code",
   "execution_count": 3,
   "metadata": {},
   "outputs": [
    {
     "data": {
      "text/plain": [
       "        message: Optimization terminated successfully. (HiGHS Status 7: Optimal)\n",
       "        success: True\n",
       "         status: 0\n",
       "            fun: -1400.0\n",
       "              x: [ 4.000e+01  2.000e+01]\n",
       "            nit: 2\n",
       "          lower:  residual: [ 4.000e+01  2.000e+01]\n",
       "                 marginals: [ 0.000e+00  0.000e+00]\n",
       "          upper:  residual: [       inf        inf]\n",
       "                 marginals: [ 0.000e+00  0.000e+00]\n",
       "          eqlin:  residual: []\n",
       "                 marginals: []\n",
       "        ineqlin:  residual: [ 0.000e+00  0.000e+00]\n",
       "                 marginals: [-3.333e+00 -1.333e+01]\n",
       " mip_node_count: 0\n",
       " mip_dual_bound: 0.0\n",
       "        mip_gap: 0.0"
      ]
     },
     "execution_count": 3,
     "metadata": {},
     "output_type": "execute_result"
    }
   ],
   "source": [
    "result"
   ]
  },
  {
   "cell_type": "code",
   "execution_count": 4,
   "metadata": {},
   "outputs": [
    {
     "name": "stdout",
     "output_type": "stream",
     "text": [
      "Optimal production plan:\n",
      "Product A: 40.00 units\n",
      "Product B: 20.00 units\n",
      "Maximum Profit: $1400.00\n"
     ]
    }
   ],
   "source": [
    "# Display results\n",
    "if result.success:\n",
    "    print(f\"Optimal production plan:\")\n",
    "    print(f\"Product A: {result.x[0]:.2f} units\")\n",
    "    print(f\"Product B: {result.x[1]:.2f} units\")\n",
    "    print(f\"Maximum Profit: ${-result.fun:.2f}\")\n",
    "else:\n",
    "    print(\"Optimization failed:\", result.message)"
   ]
  },
  {
   "cell_type": "markdown",
   "metadata": {},
   "source": [
    "This means that to maximize profit while staying within the available labor and raw material limits, the factory should produce **40 units of Product A** and **20 units of Product B**.\n",
    "\n",
    "### **Verification of Constraints:**\n",
    "1. **Labor Constraint:**  \n",
    "\n",
    "   (2 \\times 40) + (1 \\times 20) = 80 + 20 = 100 (Fully utilized)\n",
    "   \n",
    "2. **Raw Material Constraint:**  \n",
    "   \n",
    "   (1 \\times 40) + (2 \\times 20) = 40 + 40 = 80 (Fully utilized)\n",
    "   \n",
    "\n",
    "Since both constraints are fully utilized, this is an **optimal solution** with no wasted resources.\n"
   ]
  },
  {
   "cell_type": "markdown",
   "metadata": {},
   "source": [
    "# **Practice Question 2: Transport Optimization**\n",
    "\n",
    "A company ships goods from two **warehouses** (A, B) to two **markets** (X, Y).  \n",
    "\n",
    "### **Transportation Costs (per unit):**\n",
    "- **From Warehouse A**:  \n",
    "  - To **Market X** = **$4**  \n",
    "  - To **Market Y** = **$5**  \n",
    "- **From Warehouse B**:  \n",
    "  - To **Market X** = **$6**  \n",
    "  - To **Market Y** = **$3**  \n",
    "\n",
    "### **Warehouse Capacities:**\n",
    "- **Warehouse A**: 70 units  \n",
    "- **Warehouse B**: 50 units  \n",
    "\n",
    "### **Market Demand:**\n",
    "- **Market X**: 60 units  \n",
    "- **Market Y**: 50 units  \n",
    "\n",
    "### **Objective:**  \n",
    "Determine the optimal number of units to ship from each **warehouse** to each **market** in order to **minimize the total transportation cost** while satisfying the supply and demand constraints.  \n"
   ]
  },
  {
   "cell_type": "code",
   "execution_count": 7,
   "metadata": {},
   "outputs": [
    {
     "data": {
      "text/plain": [
       "        message: Optimization terminated successfully. (HiGHS Status 7: Optimal)\n",
       "        success: True\n",
       "         status: 0\n",
       "            fun: 390.0\n",
       "              x: [ 6.000e+01  0.000e+00  0.000e+00  5.000e+01]\n",
       "            nit: 0\n",
       "          lower:  residual: [ 6.000e+01  0.000e+00  0.000e+00  5.000e+01]\n",
       "                 marginals: [ 0.000e+00  2.000e+00  2.000e+00  0.000e+00]\n",
       "          upper:  residual: [       inf        inf        inf        inf]\n",
       "                 marginals: [ 0.000e+00  0.000e+00  0.000e+00  0.000e+00]\n",
       "          eqlin:  residual: [ 0.000e+00  0.000e+00]\n",
       "                 marginals: [ 4.000e+00  3.000e+00]\n",
       "        ineqlin:  residual: [ 1.000e+01  0.000e+00]\n",
       "                 marginals: [-0.000e+00 -0.000e+00]\n",
       " mip_node_count: 0\n",
       " mip_dual_bound: 0.0\n",
       "        mip_gap: 0.0"
      ]
     },
     "execution_count": 7,
     "metadata": {},
     "output_type": "execute_result"
    }
   ],
   "source": [
    "# Coefficients of the objective function (cost per unit transported)\n",
    "c = [4, 5, 6, 3]  # [A->X, A->Y, B->X, B->Y]\n",
    "\n",
    "# Coefficients for the inequality constraints (supply constraints)\n",
    "A_ub = [\n",
    "    [1, 1, 0, 0],  # A->X + A->Y <= 70 (Warehouse A)\n",
    "    [0, 0, 1, 1]   # B->X + B->Y <= 50 (Warehouse B)\n",
    "]\n",
    "b_ub = [70, 50]  # Supply capacities\n",
    "\n",
    "# Coefficients for the equality constraints (demand constraints)\n",
    "A_eq = [\n",
    "    [1, 0, 1, 0],  # A->X + B->X = 60 (Market X)\n",
    "    [0, 1, 0, 1]   # A->Y + B->Y = 50 (Market Y)\n",
    "]\n",
    "b_eq = [60, 50]  # Demand requirements\n",
    "\n",
    "# Bounds (Non-negativity constraint)\n",
    "bounds = [(0, None) for _ in range(4)]\n",
    "\n",
    "# Solve the optimization problem\n",
    "result = linprog(c, A_ub=A_ub, b_ub=b_ub, A_eq=A_eq, b_eq=b_eq, bounds=bounds, method='highs')\n",
    "result"
   ]
  },
  {
   "cell_type": "code",
   "execution_count": 8,
   "metadata": {},
   "outputs": [
    {
     "name": "stdout",
     "output_type": "stream",
     "text": [
      "Optimal Transportation Plan:\n",
      "Ship 60.00 units from A to X\n",
      "Ship 0.00 units from A to Y\n",
      "Ship 0.00 units from B to X\n",
      "Ship 50.00 units from B to Y\n",
      "Minimum Transportation Cost: $390.00\n"
     ]
    }
   ],
   "source": [
    "# Display results\n",
    "if result.success:\n",
    "    print(f\"Optimal Transportation Plan:\")\n",
    "    print(f\"Ship {result.x[0]:.2f} units from A to X\")\n",
    "    print(f\"Ship {result.x[1]:.2f} units from A to Y\")\n",
    "    print(f\"Ship {result.x[2]:.2f} units from B to X\")\n",
    "    print(f\"Ship {result.x[3]:.2f} units from B to Y\")\n",
    "    print(f\"Minimum Transportation Cost: ${result.fun:.2f}\")\n",
    "else:\n",
    "    print(\"Optimization failed:\", result.message)"
   ]
  },
  {
   "cell_type": "markdown",
   "metadata": {},
   "source": [
    "# **Practice Question 3: Optimization Problems**\n",
    "\n",
    "## **1. Diet Optimization**  \n",
    "A person needs at least **2000 calories** and **50g of protein** daily.  \n",
    "\n",
    "### **Available Foods:**\n",
    "| Food   | Calories per Unit | Protein per Unit (g) | Cost per Unit ($) |\n",
    "|--------|------------------|----------------------|-------------------|\n",
    "| **Food A** | 500              | 30                   | 3                 |\n",
    "| **Food B** | 700              | 20                   | 5                 |\n",
    "\n",
    "### **Objective:**  \n",
    "Determine the optimal number of **Food A** and **Food B** to consume in order to **minimize cost** while meeting daily nutritional requirements.\n"
   ]
  },
  {
   "cell_type": "code",
   "execution_count": 9,
   "metadata": {},
   "outputs": [
    {
     "name": "stdout",
     "output_type": "stream",
     "text": [
      "Optimal Solution:\n",
      "Food A: 4.00 units\n",
      "Food B: 0.00 units\n",
      "Minimum Cost: $12.00\n"
     ]
    }
   ],
   "source": [
    "from scipy.optimize import linprog\n",
    "\n",
    "# Objective function (Minimize cost)\n",
    "c = [3, 5]  # Coefficients for Food A and Food B\n",
    "\n",
    "# Constraints (Ax ≥ b) → Convert to -Ax ≤ -b for linprog\n",
    "A = [[-500, -700],  # Calorie constraint\n",
    "     [-30, -20]]    # Protein constraint\n",
    "b = [-2000, -50]    # Right-hand side values (negated)\n",
    "\n",
    "# Bounds for variables (x, y) ≥ 0\n",
    "x_bounds = (0, None)\n",
    "y_bounds = (0, None)\n",
    "\n",
    "# Solve using linprog\n",
    "result = linprog(c, A_ub=A, b_ub=b, bounds=[x_bounds, y_bounds], method=\"highs\")\n",
    "\n",
    "# Output results\n",
    "if result.success:\n",
    "    food_a_units = result.x[0]\n",
    "    food_b_units = result.x[1]\n",
    "    min_cost = result.fun\n",
    "    print(f\"Optimal Solution:\")\n",
    "    print(f\"Food A: {food_a_units:.2f} units\")\n",
    "    print(f\"Food B: {food_b_units:.2f} units\")\n",
    "    print(f\"Minimum Cost: ${min_cost:.2f}\")\n",
    "else:\n",
    "    print(\"No optimal solution found.\")\n"
   ]
  },
  {
   "cell_type": "markdown",
   "metadata": {},
   "source": [
    "## **2. Portfolio Optimization**  \n",
    "An investor has **$100,000** to invest in **two stocks (A & B)**.  \n",
    "\n",
    "### **Stock Details:**\n",
    "| Stock  | Expected Return (%) | Risk (%) |\n",
    "|--------|---------------------|---------|\n",
    "| **Stock A** | 8%                  | 5%      |\n",
    "| **Stock B** | 12%                 | 10%     |\n",
    "\n",
    "### **Objective:**  \n",
    "Determine how much to invest in **Stock A** and **Stock B** to **minimize risk** while ensuring a minimum return of **10%**.\n"
   ]
  },
  {
   "cell_type": "code",
   "execution_count": 10,
   "metadata": {},
   "outputs": [
    {
     "name": "stdout",
     "output_type": "stream",
     "text": [
      "Optimal Solution:\n",
      "Invest in Stock A: $50000.00\n",
      "Invest in Stock B: $50000.00\n",
      "Minimum Risk: 750000.00\n"
     ]
    }
   ],
   "source": [
    "# Objective function (Minimize risk)\n",
    "c = [5, 10]  # Risk values for Stock A and Stock B\n",
    "\n",
    "# Constraints (Ax ≥ b) → Convert to -Ax ≤ -b for linprog\n",
    "A = [[-0.08, -0.12],  # Expected return constraint\n",
    "     [1, 1]]          # Total investment constraint\n",
    "b = [-10000, 100000]  # Right-hand side values (negated return constraint)\n",
    "\n",
    "# Bounds for variables (x, y) ≥ 0\n",
    "x_bounds = (0, None)\n",
    "y_bounds = (0, None)\n",
    "\n",
    "# Solve using linprog\n",
    "result = linprog(c, A_ub=A, b_ub=b, bounds=[x_bounds, y_bounds], method=\"highs\")\n",
    "\n",
    "# Output results\n",
    "if result.success:\n",
    "    stock_a_units = result.x[0]\n",
    "    stock_b_units = result.x[1]\n",
    "    min_risk = result.fun\n",
    "    print(f\"Optimal Solution:\")\n",
    "    print(f\"Invest in Stock A: ${stock_a_units:.2f}\")\n",
    "    print(f\"Invest in Stock B: ${stock_b_units:.2f}\")\n",
    "    print(f\"Minimum Risk: {min_risk:.2f}\")\n",
    "else:\n",
    "    print(\"No optimal solution found.\")\n"
   ]
  }
 ],
 "metadata": {
  "kernelspec": {
   "display_name": "base",
   "language": "python",
   "name": "python3"
  },
  "language_info": {
   "codemirror_mode": {
    "name": "ipython",
    "version": 3
   },
   "file_extension": ".py",
   "mimetype": "text/x-python",
   "name": "python",
   "nbconvert_exporter": "python",
   "pygments_lexer": "ipython3",
   "version": "3.11.7"
  }
 },
 "nbformat": 4,
 "nbformat_minor": 2
}
