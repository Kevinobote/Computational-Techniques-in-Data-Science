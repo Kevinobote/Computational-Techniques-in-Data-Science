{
 "cells": [
  {
   "cell_type": "code",
   "execution_count": 1,
   "metadata": {},
   "outputs": [],
   "source": [
    "from scipy.optimize import linprog\n",
    "import numpy as np"
   ]
  },
  {
   "cell_type": "code",
   "execution_count": 2,
   "metadata": {},
   "outputs": [],
   "source": [
    "# Objective function coefficients\n",
    "c = [-20, -30] # Negative for maximization\n",
    "\n",
    "# inequality constraints\n",
    "A = [[2,1], [1,2]]\n",
    "b = [100, 80]\n",
    "\n",
    "x_bounds = (0, None)\n",
    "y_bounds = (0, None)"
   ]
  },
  {
   "cell_type": "code",
   "execution_count": 3,
   "metadata": {},
   "outputs": [],
   "source": [
    "# Solve the LP problem\n",
    "result = linprog(c, A_ub=A, b_ub=b, bounds=[x_bounds, y_bounds], method='highs')"
   ]
  },
  {
   "cell_type": "code",
   "execution_count": 4,
   "metadata": {},
   "outputs": [
    {
     "data": {
      "text/plain": [
       "        message: Optimization terminated successfully. (HiGHS Status 7: Optimal)\n",
       "        success: True\n",
       "         status: 0\n",
       "            fun: -1400.0\n",
       "              x: [ 4.000e+01  2.000e+01]\n",
       "            nit: 2\n",
       "          lower:  residual: [ 4.000e+01  2.000e+01]\n",
       "                 marginals: [ 0.000e+00  0.000e+00]\n",
       "          upper:  residual: [       inf        inf]\n",
       "                 marginals: [ 0.000e+00  0.000e+00]\n",
       "          eqlin:  residual: []\n",
       "                 marginals: []\n",
       "        ineqlin:  residual: [ 0.000e+00  0.000e+00]\n",
       "                 marginals: [-3.333e+00 -1.333e+01]\n",
       " mip_node_count: 0\n",
       " mip_dual_bound: 0.0\n",
       "        mip_gap: 0.0"
      ]
     },
     "execution_count": 4,
     "metadata": {},
     "output_type": "execute_result"
    }
   ],
   "source": [
    "result"
   ]
  },
  {
   "cell_type": "code",
   "execution_count": 6,
   "metadata": {},
   "outputs": [
    {
     "name": "stdout",
     "output_type": "stream",
     "text": [
      "Optimal number of Product A: 40\n",
      "Optimal number of Product B: 20\n",
      "Optimal profit: 1400\n"
     ]
    }
   ],
   "source": [
    "# Output\n",
    "print(\"Optimal number of Product A:\", round(result.x[0]))\n",
    "print(\"Optimal number of Product B:\", round(result.x[1]))\n",
    "print(\"Optimal profit:\", -round(result.fun))"
   ]
  },
  {
   "cell_type": "code",
   "execution_count": 18,
   "metadata": {},
   "outputs": [],
   "source": [
    "# Objective function\n",
    "c_min = [4, 5, 6, 3]\n",
    "A = [[1,1,0,0], # Warehouse A capacity\n",
    "[0,0,1,1], # Warehouse B capacity\n",
    "[-1,0,-1,0], # Market X demand\n",
    "[0,-1,0,-1]] # Market Y demand\n",
    "b = [70, 50, -60, -50]\n",
    " "
   ]
  },
  {
   "cell_type": "code",
   "execution_count": 26,
   "metadata": {},
   "outputs": [],
   "source": [
    "result_min = linprog(c_min, A_ub=A, b_ub=b, bounds=[(0, None)] * 4, method='highs')"
   ]
  },
  {
   "cell_type": "code",
   "execution_count": 27,
   "metadata": {},
   "outputs": [
    {
     "data": {
      "text/plain": [
       "        message: Optimization terminated successfully. (HiGHS Status 7: Optimal)\n",
       "        success: True\n",
       "         status: 0\n",
       "            fun: 390.0\n",
       "              x: [ 6.000e+01  0.000e+00  0.000e+00  5.000e+01]\n",
       "            nit: 2\n",
       "          lower:  residual: [ 6.000e+01  0.000e+00  0.000e+00  5.000e+01]\n",
       "                 marginals: [ 0.000e+00  2.000e+00  2.000e+00  0.000e+00]\n",
       "          upper:  residual: [       inf        inf        inf        inf]\n",
       "                 marginals: [ 0.000e+00  0.000e+00  0.000e+00  0.000e+00]\n",
       "          eqlin:  residual: []\n",
       "                 marginals: []\n",
       "        ineqlin:  residual: [ 1.000e+01  0.000e+00  0.000e+00  0.000e+00]\n",
       "                 marginals: [-0.000e+00 -0.000e+00 -4.000e+00 -3.000e+00]\n",
       " mip_node_count: 0\n",
       " mip_dual_bound: 0.0\n",
       "        mip_gap: 0.0"
      ]
     },
     "execution_count": 27,
     "metadata": {},
     "output_type": "execute_result"
    }
   ],
   "source": [
    "result_min"
   ]
  },
  {
   "cell_type": "code",
   "execution_count": 25,
   "metadata": {},
   "outputs": [
    {
     "name": "stdout",
     "output_type": "stream",
     "text": [
      "Mininimum TTansport cost: 390\n",
      "Product A to Warehouse A: 60\n",
      "Product B to Warehouse A: 0\n",
      "Product A to Warehouse B: 0\n",
      "Product B to Warehouse B: 50\n"
     ]
    }
   ],
   "source": [
    "print(\"Mininimum TTansport cost:\", round(result_min.fun))\n",
    "print(\"Product A to Warehouse A:\", round(result_min.x[0]))\n",
    "print(\"Product B to Warehouse A:\", round(result_min.x[1]))\n",
    "print(\"Product A to Warehouse B:\", round(result_min.x[2]))\n",
    "print(\"Product B to Warehouse B:\", round(result_min.x[3]))"
   ]
  },
  {
   "cell_type": "code",
   "execution_count": 28,
   "metadata": {},
   "outputs": [
    {
     "name": "stdout",
     "output_type": "stream",
     "text": [
      "Minimum Transport cost: 390\n",
      "Product A to Warehouse A: 60\n",
      "Product B to Warehouse A: 0\n",
      "Product A to Warehouse B: 0\n",
      "Product B to Warehouse B: 50\n"
     ]
    }
   ],
   "source": [
    "from scipy.optimize import linprog\n",
    "\n",
    "# Objective function coefficients (costs)\n",
    "c_min = [4, 5, 6, 3]\n",
    "\n",
    "# Inequality constraints matrix (A_ub) and vector (b_ub)\n",
    "A_ub = [\n",
    "    [1, 1, 0, 0],  # Warehouse A capacity\n",
    "    [0, 0, 1, 1],  # Warehouse B capacity\n",
    "    [-1, 0, -1, 0],  # Market X demand (converted to <= -60)\n",
    "    [0, -1, 0, -1]  # Market Y demand (converted to <= -50)\n",
    "]\n",
    "b_ub = [70, 50, -60, -50]\n",
    "\n",
    "# Bounds for each variable (non-negative)\n",
    "bounds = [(0, None)] * 4\n",
    "\n",
    "# Solve the linear programming problem\n",
    "result_min = linprog(c_min, A_ub=A_ub, b_ub=b_ub, bounds=bounds, method='highs')\n",
    "\n",
    "# Check if the optimization was successful\n",
    "if result_min.success:\n",
    "    print(\"Minimum Transport cost:\", round(result_min.fun))\n",
    "    print(\"Product A to Warehouse A:\", round(result_min.x[0]))\n",
    "    print(\"Product B to Warehouse A:\", round(result_min.x[1]))\n",
    "    print(\"Product A to Warehouse B:\", round(result_min.x[2]))\n",
    "    print(\"Product B to Warehouse B:\", round(result_min.x[3]))\n",
    "else:\n",
    "    print(\"Optimization failed. Message:\", result_min.message)"
   ]
  },
  {
   "cell_type": "markdown",
   "metadata": {},
   "source": [
    "### Diet Optimization\n",
    "\n",
    "**Problem Description**:\n",
    "- A person needs at least 2000 calories and 50g protein daily.\n",
    "- Food A: 500 calories, 30g protein, $3/unit.\n",
    "- Food B: 700 calories, 20g protein, $5/unit.\n",
    "- Minimize the cost.\n"
   ]
  },
  {
   "cell_type": "code",
   "execution_count": 30,
   "metadata": {},
   "outputs": [
    {
     "data": {
      "text/plain": [
       "        message: Optimization terminated successfully. (HiGHS Status 7: Optimal)\n",
       "        success: True\n",
       "         status: 0\n",
       "            fun: 12.0\n",
       "              x: [ 4.000e+00  0.000e+00]\n",
       "            nit: 1\n",
       "          lower:  residual: [ 4.000e+00  0.000e+00]\n",
       "                 marginals: [ 0.000e+00  8.000e-01]\n",
       "          upper:  residual: [       inf        inf]\n",
       "                 marginals: [ 0.000e+00  0.000e+00]\n",
       "          eqlin:  residual: []\n",
       "                 marginals: []\n",
       "        ineqlin:  residual: [ 0.000e+00  7.000e+01]\n",
       "                 marginals: [-6.000e-03 -0.000e+00]\n",
       " mip_node_count: 0\n",
       " mip_dual_bound: 0.0\n",
       "        mip_gap: 0.0"
      ]
     },
     "execution_count": 30,
     "metadata": {},
     "output_type": "execute_result"
    }
   ],
   "source": [
    "# Objective function coefficients (costs)\n",
    "c = [3, 5]\n",
    "\n",
    "# Inequality constraints matrix (A_ub) and vector (b_ub)\n",
    "A_ub = [\n",
    "    [-500, -700],  # Calories (>= 2000, converted to <= -2000)\n",
    "    [-30, -20]     # Protein (>= 50, converted to <= -50)\n",
    "]\n",
    "b_ub = [-2000, -50]\n",
    "\n",
    "# Bounds for each variable (non-negative)\n",
    "bounds = [(0, None), (0, None)]\n",
    "\n",
    "# Solve the linear programming problem\n",
    "result_diet = linprog(c, A_ub=A_ub, b_ub=b_ub, bounds=bounds, method='highs')\n",
    "result_diet"
   ]
  },
  {
   "cell_type": "code",
   "execution_count": 31,
   "metadata": {},
   "outputs": [
    {
     "name": "stdout",
     "output_type": "stream",
     "text": [
      "Minimum cost: 12.0\n",
      "Units of Food A: 4.0\n",
      "Units of Food B: 0.0\n"
     ]
    }
   ],
   "source": [
    "# Check if the optimization was successful\n",
    "if result_diet.success:\n",
    "    print(\"Minimum cost:\", round(result_diet.fun, 2))\n",
    "    print(\"Units of Food A:\", round(result_diet.x[0], 2))\n",
    "    print(\"Units of Food B:\", round(result_diet.x[1], 2))\n",
    "else:\n",
    "    print(\"Optimization failed. Message:\", result_diet.message)"
   ]
  },
  {
   "cell_type": "markdown",
   "metadata": {},
   "source": [
    "\n",
    "\n",
    "### Portfolio Optimization\n",
    "\n",
    "**Problem Description**:\n",
    "- An investor has $100,000 to invest in two stocks.\n",
    "- Stock A: Expected return = 8%, risk = 5%.\n",
    "- Stock B: Expected return = 12%, risk = 10%.\n",
    "- The investor wants to minimize risk while ensuring a 10% return.\n",
    "\n",
    "### Code to Solve Portfolio Optimization:\n"
   ]
  },
  {
   "cell_type": "code",
   "execution_count": null,
   "metadata": {},
   "outputs": [
    {
     "data": {
      "text/plain": [
       "        message: Optimization terminated successfully. (HiGHS Status 7: Optimal)\n",
       "        success: True\n",
       "         status: 0\n",
       "            fun: 7500.0\n",
       "              x: [ 5.000e+04  5.000e+04]\n",
       "            nit: 0\n",
       "          lower:  residual: [ 5.000e+04  5.000e+04]\n",
       "                 marginals: [ 0.000e+00  0.000e+00]\n",
       "          upper:  residual: [       inf        inf]\n",
       "                 marginals: [ 0.000e+00  0.000e+00]\n",
       "          eqlin:  residual: [ 0.000e+00  0.000e+00]\n",
       "                 marginals: [-1.250e+00 -5.000e-02]\n",
       "        ineqlin:  residual: []\n",
       "                 marginals: []\n",
       " mip_node_count: 0\n",
       " mip_dual_bound: 0.0\n",
       "        mip_gap: 0.0"
      ]
     },
     "execution_count": 36,
     "metadata": {},
     "output_type": "execute_result"
    }
   ],
   "source": [
    "from scipy.optimize import linprog\n",
    "\n",
    "# Objective function coefficients (risks)\n",
    "c = [0.05, 0.10]\n",
    "\n",
    "# Equality constraints matrix (A_eq) and vector (b_eq)\n",
    "A_eq = [\n",
    "    [0.08, 0.12],  # Expected return (10% of $100,000 = $10,000)\n",
    "    [1, 1]         # Total investment ($100,000)\n",
    "]\n",
    "b_eq = [0.10 * 100000, 100000]\n",
    "\n",
    "# Bounds for each variable (non-negative)\n",
    "bounds = [(0, None), (0, None)]\n",
    "\n",
    "# Solve the linear programming problem\n",
    "result_portfolio = linprog(c, A_eq=A_eq, b_eq=b_eq, bounds=bounds, method='highs')\n",
    "result_portfolio\n"
   ]
  },
  {
   "cell_type": "code",
   "execution_count": 34,
   "metadata": {},
   "outputs": [
    {
     "name": "stdout",
     "output_type": "stream",
     "text": [
      "Minimum risk: 7500.0\n",
      "Investment in Stock A: 50000.0\n",
      "Investment in Stock B: 50000.0\n"
     ]
    }
   ],
   "source": [
    "# Check if the optimization was successful\n",
    "if result_portfolio.success:\n",
    "    print(\"Minimum risk:\", round(result_portfolio.fun, 2))\n",
    "    print(\"Investment in Stock A:\", round(result_portfolio.x[0], 2))\n",
    "    print(\"Investment in Stock B:\", round(result_portfolio.x[1], 2))\n",
    "else:\n",
    "    print(\"Optimization failed. Message:\", result_portfolio.message)"
   ]
  },
  {
   "cell_type": "markdown",
   "metadata": {},
   "source": [
    "\n",
    "\n",
    "### Explanation:\n",
    "1. **Diet Optimization**:\n",
    "   - The objective is to minimize the cost, represented by `c = [3, 5]`.\n",
    "   - The constraints ensure at least 2000 calories and 50g protein, converted to inequalities.\n",
    "   - The bounds ensure non-negative quantities of food.\n",
    "\n",
    "2. **Portfolio Optimization**:\n",
    "   - The objective is to minimize risk, represented by `c = [0.05, 0.10]`.\n",
    "   - The constraints ensure a 10% return and total investment of $100,000.\n",
    "   - The bounds ensure non-negative investments.\n",
    "\n",
    "### Running the Code:\n",
    "- This code will solve both optimization problems and print the results if feasible.\n",
    "- If any problem is infeasible, it will print an error message with details."
   ]
  }
 ],
 "metadata": {
  "kernelspec": {
   "display_name": "base",
   "language": "python",
   "name": "python3"
  },
  "language_info": {
   "codemirror_mode": {
    "name": "ipython",
    "version": 3
   },
   "file_extension": ".py",
   "mimetype": "text/x-python",
   "name": "python",
   "nbconvert_exporter": "python",
   "pygments_lexer": "ipython3",
   "version": "3.11.7"
  }
 },
 "nbformat": 4,
 "nbformat_minor": 2
}
