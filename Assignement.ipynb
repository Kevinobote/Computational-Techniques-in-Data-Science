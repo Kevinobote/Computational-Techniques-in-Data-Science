{
 "cells": [
  {
   "cell_type": "markdown",
   "metadata": {},
   "source": [
    "# Import Required Libraries\n",
    "Import the necessary libraries, including NumPy and SciPy."
   ]
  },
  {
   "cell_type": "code",
   "execution_count": 1,
   "metadata": {},
   "outputs": [],
   "source": [
    "# Import Required Libraries\n",
    "\n",
    "import numpy as np\n",
    "from scipy.optimize import linprog"
   ]
  },
  {
   "cell_type": "markdown",
   "metadata": {},
   "source": [
    "# Question 1: Supply Chain Optimization under Demand Uncertainty\n",
    "### Define Demand and Probability Data\n",
    "Define the demand and probability data for electronic supply in Nairobi.\n",
    "\n",
    "### Define Constraints\n",
    "Define the supply constraints.\n",
    "\n",
    "### Compute Optimal Supply\n",
    "Use optimization techniques to compute the optimal supply."
   ]
  },
  {
   "cell_type": "code",
   "execution_count": 2,
   "metadata": {},
   "outputs": [
    {
     "data": {
      "text/plain": [
       "array([  0.,   0.,   0.,   0.,   0.,   0.,   0.,   0.,   0.,   0., 330.,\n",
       "         0.,   0.,   0.])"
      ]
     },
     "execution_count": 2,
     "metadata": {},
     "output_type": "execute_result"
    }
   ],
   "source": [
    "# Question 1: Supply Chain Optimization under Demand Uncertainty\n",
    "\n",
    "### Define Demand and Probability Data\n",
    "demand = np.array([255, 302, 270, 317, 285, 332, 300, 347, 315, 362, 330, 262, 309, 277])\n",
    "probability = np.array([0.03, 0.15, 0.04, 0.1, 0.05, 0.05, 0.09, 0.01, 0.09, 0.03, 0.2, 0.07, 0.05, 0.04])\n",
    "\n",
    "### Define Constraints\n",
    "supply_constraints = [(120, 330)]\n",
    "\n",
    "### Compute Optimal Supply\n",
    "# Objective function: minimize the negative expected profit (maximize expected profit)\n",
    "c = -probability\n",
    "\n",
    "# Inequality constraints: supply >= 120 and supply <= 330\n",
    "A = np.vstack([np.ones(len(demand)), -np.ones(len(demand))])\n",
    "b = np.array([330, -120])\n",
    "\n",
    "# Bounds for each variable (demand)\n",
    "x_bounds = [(0, None) for _ in demand]\n",
    "\n",
    "# Solve the linear programming problem\n",
    "result = linprog(c, A_ub=A, b_ub=b, bounds=x_bounds, method='highs')\n",
    "\n",
    "# Optimal supply\n",
    "optimal_supply = result.x\n",
    "\n",
    "optimal_supply"
   ]
  },
  {
   "cell_type": "markdown",
   "metadata": {},
   "source": [
    "# Question 2: Healthcare Resource Allocation with Uncertain Demand\n",
    "### Define Patient Arrival and Probability Data\n",
    "Define the patient arrival and probability data for ICU bed allocation at Kenyatta National Hospital.\n",
    "\n",
    "### Define Constraints\n",
    "Define the bed constraints.\n",
    "\n",
    "### Compute Optimal ICU Bed Allocation\n",
    "Use optimization techniques to compute the optimal number of ICU beds."
   ]
  },
  {
   "cell_type": "code",
   "execution_count": 3,
   "metadata": {},
   "outputs": [
    {
     "data": {
      "text/plain": [
       "array([ 0.,  0.,  0., 55.,  0.,  0.,  0.,  0.,  0.,  0.])"
      ]
     },
     "execution_count": 3,
     "metadata": {},
     "output_type": "execute_result"
    }
   ],
   "source": [
    "# Question 2: Healthcare Resource Allocation with Uncertain Demand\n",
    "\n",
    "### Define Patient Arrival and Probability Data\n",
    "patient_arrivals = np.array([25, 20, 30, 50, 27, 39, 42, 29, 35, 42])\n",
    "arrival_probabilities = np.array([0.1, 0.1, 0.08, 0.15, 0.09, 0.05, 0.1, 0.1, 0.13, 0.1])\n",
    "\n",
    "### Define Constraints\n",
    "bed_constraints = [(17, 55)]\n",
    "\n",
    "### Compute Optimal ICU Bed Allocation\n",
    "# Objective function: minimize the negative expected profit (maximize expected profit)\n",
    "c_beds = -arrival_probabilities\n",
    "\n",
    "# Inequality constraints: beds >= 17 and beds <= 55\n",
    "A_beds = np.vstack([np.ones(len(patient_arrivals)), -np.ones(len(patient_arrivals))])\n",
    "b_beds = np.array([55, -17])\n",
    "\n",
    "# Bounds for each variable (patient arrivals)\n",
    "x_bounds_beds = [(0, None) for _ in patient_arrivals]\n",
    "\n",
    "# Solve the linear programming problem\n",
    "result_beds = linprog(c_beds, A_ub=A_beds, b_ub=b_beds, bounds=x_bounds_beds, method='highs')\n",
    "\n",
    "# Optimal number of ICU beds\n",
    "optimal_beds = result_beds.x\n",
    "\n",
    "optimal_beds"
   ]
  },
  {
   "cell_type": "code",
   "execution_count": null,
   "metadata": {},
   "outputs": [],
   "source": []
  }
 ],
 "metadata": {
  "kernelspec": {
   "display_name": "base",
   "language": "python",
   "name": "python3"
  },
  "language_info": {
   "codemirror_mode": {
    "name": "ipython",
    "version": 3
   },
   "file_extension": ".py",
   "mimetype": "text/x-python",
   "name": "python",
   "nbconvert_exporter": "python",
   "pygments_lexer": "ipython3",
   "version": "3.11.7"
  }
 },
 "nbformat": 4,
 "nbformat_minor": 2
}
