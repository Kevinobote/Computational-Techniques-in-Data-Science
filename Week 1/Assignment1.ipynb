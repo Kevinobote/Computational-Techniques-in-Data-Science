{
 "cells": [
  {
   "cell_type": "markdown",
   "metadata": {},
   "source": [
    "# Stochastic Programming and Applications-Computational Techniques\n",
    "## Assignment 1\n",
    "## Kevin Obote - 190696\n",
    "\n",
    "This notebook contains the solutions to two optimization problems under uncertainty:\n",
    "1. Supply Chain Optimization under Demand Uncertainty\n",
    "2. Healthcare Resource Allocation with Uncertain Demand\n",
    "\n",
    "Both problems will be solved using stochastic programming techniques in Python."
   ]
  },
  {
   "cell_type": "code",
   "execution_count": null,
   "metadata": {},
   "outputs": [],
   "source": [
    "# Import necessary libraries\n",
    "import gc  # Garbage collection interface\n",
    "import psutil  # System and process utilities\n",
    "import numpy as np  # Numerical operations\n",
    "import pandas as pd  # Data manipulation and analysis\n",
    "import matplotlib.pyplot as plt  # Plotting and visualization\n",
    "import cvxpy as cp # Convex optimization"
   ]
  },
  {
   "cell_type": "markdown",
   "metadata": {},
   "source": [
    "## Question 1: Supply Chain Optimization under Demand Uncertainty\n",
    "\n",
    "### Problem Statement\n",
    "Consider Supply Chain Optimization under Demand Uncertainty. Demand for electronic supply in Nairobi in the past two weeks together with their respective probability is given below:\n",
    "\n",
    "| Number | 255 | 302 | 270 | 317 | 285 | 332 | 300 | 347 | 315 | 362 | 330 | 262 | 309 | 277 |\n",
    "|--------|-----|-----|-----|-----|-----|-----|-----|-----|-----|-----|-----|-----|-----|-----|\n",
    "| Prob   |0.03 |0.15 |0.04 |0.10 |0.05 |0.05 |0.09 |0.01 |0.09 |0.03 |0.20 |0.07 |0.05 |0.04 |\n",
    "\n",
    "Consider constraints = [supply >= 120, supply <= 330].\n",
    "\n",
    "Compute the optimal supply."
   ]
  },
  {
   "cell_type": "code",
   "execution_count": 15,
   "metadata": {},
   "outputs": [
    {
     "name": "stdout",
     "output_type": "stream",
     "text": [
      "Sum of probabilities: 1.00\n"
     ]
    },
    {
     "data": {
      "application/vnd.microsoft.datawrangler.viewer.v0+json": {
       "columns": [
        {
         "name": "index",
         "rawType": "int64",
         "type": "integer"
        },
        {
         "name": "Demand",
         "rawType": "int32",
         "type": "integer"
        },
        {
         "name": "Probability",
         "rawType": "float64",
         "type": "float"
        }
       ],
       "conversionMethod": "pd.DataFrame",
       "ref": "750f2708-f402-4fe8-9dfc-35c126bd8423",
       "rows": [
        [
         "0",
         "255",
         "0.03"
        ],
        [
         "1",
         "302",
         "0.15"
        ],
        [
         "2",
         "270",
         "0.04"
        ],
        [
         "3",
         "317",
         "0.1"
        ],
        [
         "4",
         "285",
         "0.05"
        ],
        [
         "5",
         "332",
         "0.05"
        ],
        [
         "6",
         "300",
         "0.09"
        ],
        [
         "7",
         "347",
         "0.01"
        ],
        [
         "8",
         "315",
         "0.09"
        ],
        [
         "9",
         "362",
         "0.03"
        ],
        [
         "10",
         "330",
         "0.2"
        ],
        [
         "11",
         "262",
         "0.07"
        ],
        [
         "12",
         "309",
         "0.05"
        ],
        [
         "13",
         "277",
         "0.04"
        ]
       ],
       "shape": {
        "columns": 2,
        "rows": 14
       }
      },
      "text/html": [
       "<div>\n",
       "<style scoped>\n",
       "    .dataframe tbody tr th:only-of-type {\n",
       "        vertical-align: middle;\n",
       "    }\n",
       "\n",
       "    .dataframe tbody tr th {\n",
       "        vertical-align: top;\n",
       "    }\n",
       "\n",
       "    .dataframe thead th {\n",
       "        text-align: right;\n",
       "    }\n",
       "</style>\n",
       "<table border=\"1\" class=\"dataframe\">\n",
       "  <thead>\n",
       "    <tr style=\"text-align: right;\">\n",
       "      <th></th>\n",
       "      <th>Demand</th>\n",
       "      <th>Probability</th>\n",
       "    </tr>\n",
       "  </thead>\n",
       "  <tbody>\n",
       "    <tr>\n",
       "      <th>0</th>\n",
       "      <td>255</td>\n",
       "      <td>0.03</td>\n",
       "    </tr>\n",
       "    <tr>\n",
       "      <th>1</th>\n",
       "      <td>302</td>\n",
       "      <td>0.15</td>\n",
       "    </tr>\n",
       "    <tr>\n",
       "      <th>2</th>\n",
       "      <td>270</td>\n",
       "      <td>0.04</td>\n",
       "    </tr>\n",
       "    <tr>\n",
       "      <th>3</th>\n",
       "      <td>317</td>\n",
       "      <td>0.10</td>\n",
       "    </tr>\n",
       "    <tr>\n",
       "      <th>4</th>\n",
       "      <td>285</td>\n",
       "      <td>0.05</td>\n",
       "    </tr>\n",
       "    <tr>\n",
       "      <th>5</th>\n",
       "      <td>332</td>\n",
       "      <td>0.05</td>\n",
       "    </tr>\n",
       "    <tr>\n",
       "      <th>6</th>\n",
       "      <td>300</td>\n",
       "      <td>0.09</td>\n",
       "    </tr>\n",
       "    <tr>\n",
       "      <th>7</th>\n",
       "      <td>347</td>\n",
       "      <td>0.01</td>\n",
       "    </tr>\n",
       "    <tr>\n",
       "      <th>8</th>\n",
       "      <td>315</td>\n",
       "      <td>0.09</td>\n",
       "    </tr>\n",
       "    <tr>\n",
       "      <th>9</th>\n",
       "      <td>362</td>\n",
       "      <td>0.03</td>\n",
       "    </tr>\n",
       "    <tr>\n",
       "      <th>10</th>\n",
       "      <td>330</td>\n",
       "      <td>0.20</td>\n",
       "    </tr>\n",
       "    <tr>\n",
       "      <th>11</th>\n",
       "      <td>262</td>\n",
       "      <td>0.07</td>\n",
       "    </tr>\n",
       "    <tr>\n",
       "      <th>12</th>\n",
       "      <td>309</td>\n",
       "      <td>0.05</td>\n",
       "    </tr>\n",
       "    <tr>\n",
       "      <th>13</th>\n",
       "      <td>277</td>\n",
       "      <td>0.04</td>\n",
       "    </tr>\n",
       "  </tbody>\n",
       "</table>\n",
       "</div>"
      ],
      "text/plain": [
       "    Demand  Probability\n",
       "0      255         0.03\n",
       "1      302         0.15\n",
       "2      270         0.04\n",
       "3      317         0.10\n",
       "4      285         0.05\n",
       "5      332         0.05\n",
       "6      300         0.09\n",
       "7      347         0.01\n",
       "8      315         0.09\n",
       "9      362         0.03\n",
       "10     330         0.20\n",
       "11     262         0.07\n",
       "12     309         0.05\n",
       "13     277         0.04"
      ]
     },
     "metadata": {},
     "output_type": "display_data"
    }
   ],
   "source": [
    "# Define the demand and probability data for Question 1\n",
    "demand_q1 = np.array([255, 302, 270, 317, 285, 332, 300, 347, 315, 362, 330, 262, 309, 277])\n",
    "prob_q1 = np.array([0.03, 0.15, 0.04, 0.10, 0.05, 0.05, 0.09, 0.01, 0.09, 0.03, 0.20, 0.07, 0.05, 0.04])\n",
    "\n",
    "# Verify that probabilities sum to 1\n",
    "print(f\"Sum of probabilities: {prob_q1.sum():.2f}\")\n",
    "\n",
    "# Define constraints\n",
    "min_supply = 120\n",
    "max_supply = 330\n",
    "\n",
    "# Display the data in a DataFrame for better visualization\n",
    "df_q1 = pd.DataFrame({\n",
    "    'Demand': demand_q1,\n",
    "    'Probability': prob_q1\n",
    "})\n",
    "display(df_q1)"
   ]
  },
  {
   "cell_type": "markdown",
   "metadata": {},
   "source": [
    "### Solution Approach\n",
    "\n",
    "For a supply chain problem under uncertainty, we need to find the optimal supply quantity that minimizes the expected cost. \n",
    "\n",
    "In this context, we'll consider two types of costs:\n",
    "1. **Overage cost (Co)**: Cost of ordering too much (excess inventory)\n",
    "2. **Underage cost (Cu)**: Cost of ordering too little (missed sales opportunities)\n",
    "\n",
    "Let's assume both costs are equal for simplicity (Co = Cu = 1). With this assumption, the optimal solution is the median of the demand distribution when viewed as a continuous distribution.\n",
    "\n",
    "However, since we have a discrete probability distribution, we need to find the order quantity that minimizes the expected cost directly."
   ]
  },
  {
   "cell_type": "code",
   "execution_count": 29,
   "metadata": {},
   "outputs": [
    {
     "name": "stdout",
     "output_type": "stream",
     "text": [
      "Optimal Supply (CVXPY Optimization): 309.00, Cost: 19.47\n"
     ]
    }
   ],
   "source": [
    "# CVXPY Optimization\n",
    "supply = cp.Variable()\n",
    "overage = cp.maximum(0, supply - demand_q1)\n",
    "underage = cp.maximum(0, demand_q1 - supply)\n",
    "\n",
    "expected_total_cost = cp.sum(cp.multiply(prob_q1, overage + underage))\n",
    "constraints = [supply >= min_supply, supply <= max_supply]\n",
    "\n",
    "problem = cp.Problem(cp.Minimize(expected_total_cost), constraints)\n",
    "problem.solve()\n",
    "\n",
    "optimal_supply_cvxpy = supply.value\n",
    "min_cost_cvxpy = expected_total_cost.value\n",
    "\n",
    "# Print the results\n",
    "print(f\"Optimal Supply (CVXPY Optimization): {optimal_supply_cvxpy:.2f}, Cost: {min_cost_cvxpy:.2f}\")\n"
   ]
  },
  {
   "cell_type": "code",
   "execution_count": null,
   "metadata": {},
   "outputs": [
    {
     "name": "stdout",
     "output_type": "stream",
     "text": [
      "Expected demand: 306.85\n",
      "Optimal supply: 309\n",
      "Minimum expected cost: 19.47\n"
     ]
    }
   ],
   "source": [
    "# Function to calculate expected cost for a given supply level\n",
    "\n",
    "def expected_cost(supply, demand, probabilities, overage_cost=1, underage_cost=1):\n",
    "    # Cost of over-ordering (supply > demand)\n",
    "    overage = np.maximum(0, supply - demand)\n",
    "    # Cost of under-ordering (demand > supply)\n",
    "    underage = np.maximum(0, demand - supply)\n",
    "    \n",
    "    # Calculate total cost for each scenario\n",
    "    total_cost = overage_cost * overage + underage_cost * underage\n",
    "    \n",
    "    # Expected cost is the weighted sum of costs\n",
    "    return np.sum(probabilities * total_cost)\n",
    "\n",
    "# Calculate and print the expected demand\n",
    "expected_demand = np.sum(demand_q1 * prob_q1)\n",
    "print(f\"Expected demand: {expected_demand:.2f}\")\n",
    "\n",
    "# Find optimal supply by evaluating all possible supply quantities within constraints\n",
    "# We'll only check the discrete values in our demand list and the constraint boundaries\n",
    "\n",
    "# Using the Exhaustive Search method\n",
    "possible_supplies = np.unique(np.append(demand_q1, [min_supply, max_supply]))\n",
    "possible_supplies = possible_supplies[(possible_supplies >= min_supply) & (possible_supplies <= max_supply)]\n",
    "\n",
    "costs = []\n",
    "for supply in possible_supplies:\n",
    "    cost = expected_cost(supply, demand_q1, prob_q1)\n",
    "    costs.append(cost)\n",
    "\n",
    "# Find the supply level with minimum expected cost\n",
    "min_cost_idx = np.argmin(costs)\n",
    "optimal_supply = possible_supplies[min_cost_idx]\n",
    "min_cost = costs[min_cost_idx]\n",
    "\n",
    "print(f\"Optimal supply: {optimal_supply}\")\n",
    "print(f\"Minimum expected cost: {min_cost:.2f}\")\n"
   ]
  },
  {
   "cell_type": "code",
   "execution_count": 17,
   "metadata": {},
   "outputs": [
    {
     "data": {
      "image/png": "[encoded data removed]",
      "text/plain": [
       "<Figure size 1000x600 with 1 Axes>"
      ]
     },
     "metadata": {},
     "output_type": "display_data"
    }
   ],
   "source": [
    "# Plot the expected costs against different supply levels\n",
    "plt.figure(figsize=(10, 6))\n",
    "plt.plot(possible_supplies, costs, 'b-', marker='o')\n",
    "plt.axvline(x=optimal_supply, color='r', linestyle='--', label=f'Optimal Supply = {optimal_supply}')\n",
    "plt.xlabel('Supply Quantity')\n",
    "plt.ylabel('Expected Cost')\n",
    "plt.title('Expected Cost vs Supply Quantity')\n",
    "plt.grid(True)\n",
    "plt.legend()\n",
    "plt.show()"
   ]
  },
  {
   "cell_type": "markdown",
   "metadata": {},
   "source": [
    "### Analysis of Results\n",
    "\n",
    "The optimal supply quantity is determined by minimizing the expected cost across all possible demand scenarios. Each possible supply level within our constraints was evaluated, and the one with the lowest expected cost was selected.\n",
    "\n",
    "The optimal supply of 330 units represents the best balance between the risk of having excess inventory and the risk of not meeting demand, given the provided probability distribution."
   ]
  },
  {
   "cell_type": "markdown",
   "metadata": {},
   "source": [
    "## Question 2: Healthcare Resource Allocation with Uncertain Demand\n",
    "\n",
    "### Problem Statement\n",
    "Consider ICU Bed Allocation under Uncertain Patient Arrivals. Number of unscheduled arrivals at Kenyatta National Hospital in the last 10 days has been as follows:\n",
    "\n",
    "| Number of patients | 25 | 20 | 30 | 50 | 27 | 39 | 42 | 29 | 35 | 42 |\n",
    "|-------------------|----|----|----|----|----|----|----|----|----|----|  \n",
    "| Probability        |0.1 |0.1 |0.08|0.15|0.09|0.05|0.1 |0.1 |0.13|0.1 |\n",
    "\n",
    "Consider bed constraints = [beds >= 17, beds <= 55].\n",
    "\n",
    "Compute the Optimal number of ICU beds allocation."
   ]
  },
  {
   "cell_type": "code",
   "execution_count": 18,
   "metadata": {},
   "outputs": [
    {
     "name": "stdout",
     "output_type": "stream",
     "text": [
      "Sum of probabilities: 1.00\n"
     ]
    },
    {
     "data": {
      "application/vnd.microsoft.datawrangler.viewer.v0+json": {
       "columns": [
        {
         "name": "index",
         "rawType": "int64",
         "type": "integer"
        },
        {
         "name": "Number of Patients",
         "rawType": "int32",
         "type": "integer"
        },
        {
         "name": "Probability",
         "rawType": "float64",
         "type": "float"
        }
       ],
       "conversionMethod": "pd.DataFrame",
       "ref": "1b135d42-f5d5-4ed6-8cbb-2ea26668f9fc",
       "rows": [
        [
         "0",
         "25",
         "0.1"
        ],
        [
         "1",
         "20",
         "0.1"
        ],
        [
         "2",
         "30",
         "0.08"
        ],
        [
         "3",
         "50",
         "0.15"
        ],
        [
         "4",
         "27",
         "0.09"
        ],
        [
         "5",
         "39",
         "0.05"
        ],
        [
         "6",
         "42",
         "0.1"
        ],
        [
         "7",
         "29",
         "0.1"
        ],
        [
         "8",
         "35",
         "0.13"
        ],
        [
         "9",
         "42",
         "0.1"
        ]
       ],
       "shape": {
        "columns": 2,
        "rows": 10
       }
      },
      "text/html": [
       "<div>\n",
       "<style scoped>\n",
       "    .dataframe tbody tr th:only-of-type {\n",
       "        vertical-align: middle;\n",
       "    }\n",
       "\n",
       "    .dataframe tbody tr th {\n",
       "        vertical-align: top;\n",
       "    }\n",
       "\n",
       "    .dataframe thead th {\n",
       "        text-align: right;\n",
       "    }\n",
       "</style>\n",
       "<table border=\"1\" class=\"dataframe\">\n",
       "  <thead>\n",
       "    <tr style=\"text-align: right;\">\n",
       "      <th></th>\n",
       "      <th>Number of Patients</th>\n",
       "      <th>Probability</th>\n",
       "    </tr>\n",
       "  </thead>\n",
       "  <tbody>\n",
       "    <tr>\n",
       "      <th>0</th>\n",
       "      <td>25</td>\n",
       "      <td>0.10</td>\n",
       "    </tr>\n",
       "    <tr>\n",
       "      <th>1</th>\n",
       "      <td>20</td>\n",
       "      <td>0.10</td>\n",
       "    </tr>\n",
       "    <tr>\n",
       "      <th>2</th>\n",
       "      <td>30</td>\n",
       "      <td>0.08</td>\n",
       "    </tr>\n",
       "    <tr>\n",
       "      <th>3</th>\n",
       "      <td>50</td>\n",
       "      <td>0.15</td>\n",
       "    </tr>\n",
       "    <tr>\n",
       "      <th>4</th>\n",
       "      <td>27</td>\n",
       "      <td>0.09</td>\n",
       "    </tr>\n",
       "    <tr>\n",
       "      <th>5</th>\n",
       "      <td>39</td>\n",
       "      <td>0.05</td>\n",
       "    </tr>\n",
       "    <tr>\n",
       "      <th>6</th>\n",
       "      <td>42</td>\n",
       "      <td>0.10</td>\n",
       "    </tr>\n",
       "    <tr>\n",
       "      <th>7</th>\n",
       "      <td>29</td>\n",
       "      <td>0.10</td>\n",
       "    </tr>\n",
       "    <tr>\n",
       "      <th>8</th>\n",
       "      <td>35</td>\n",
       "      <td>0.13</td>\n",
       "    </tr>\n",
       "    <tr>\n",
       "      <th>9</th>\n",
       "      <td>42</td>\n",
       "      <td>0.10</td>\n",
       "    </tr>\n",
       "  </tbody>\n",
       "</table>\n",
       "</div>"
      ],
      "text/plain": [
       "   Number of Patients  Probability\n",
       "0                  25         0.10\n",
       "1                  20         0.10\n",
       "2                  30         0.08\n",
       "3                  50         0.15\n",
       "4                  27         0.09\n",
       "5                  39         0.05\n",
       "6                  42         0.10\n",
       "7                  29         0.10\n",
       "8                  35         0.13\n",
       "9                  42         0.10"
      ]
     },
     "metadata": {},
     "output_type": "display_data"
    }
   ],
   "source": [
    "# Define the demand and probability data for Question 2\n",
    "demand_q2 = np.array([25, 20, 30, 50, 27, 39, 42, 29, 35, 42])\n",
    "prob_q2 = np.array([0.1, 0.1, 0.08, 0.15, 0.09, 0.05, 0.1, 0.1, 0.13, 0.1])\n",
    "\n",
    "# Verify that probabilities sum to 1\n",
    "print(f\"Sum of probabilities: {prob_q2.sum():.2f}\")\n",
    "\n",
    "# Define constraints\n",
    "min_beds = 17\n",
    "max_beds = 55\n",
    "\n",
    "# Display the data in a DataFrame for better visualization\n",
    "df_q2 = pd.DataFrame({\n",
    "    'Number of Patients': demand_q2,\n",
    "    'Probability': prob_q2\n",
    "})\n",
    "display(df_q2)"
   ]
  },
  {
   "cell_type": "markdown",
   "metadata": {},
   "source": [
    "### Solution Approach\n",
    "\n",
    "For the healthcare resource allocation problem, we need to find the optimal number of ICU beds that minimizes the expected cost.\n",
    "\n",
    "In this context, we'll consider two types of costs:\n",
    "1. **Cost of excess beds (Ce)**: Cost of allocating more beds than needed\n",
    "2. **Cost of insufficient beds (Cs)**: Cost of having fewer beds than patients requiring them\n",
    "\n",
    "In healthcare settings, the cost of insufficient beds is typically much higher than the cost of excess beds, as it directly impacts patient outcomes. Let's set Cs = 5*Ce to reflect this relationship. We'll initially set Ce = 1 for simplicity."
   ]
  },
  {
   "cell_type": "code",
   "execution_count": 19,
   "metadata": {},
   "outputs": [
    {
     "name": "stdout",
     "output_type": "stream",
     "text": [
      "Optimal number of ICU beds: 42\n",
      "Minimum expected cost: 14.57\n"
     ]
    }
   ],
   "source": [
    "# Define cost parameters\n",
    "excess_cost = 1       # Cost per excess bed\n",
    "shortage_cost = 5     # Cost per patient who cannot be accommodated\n",
    "\n",
    "# Function to calculate expected cost for a given number of beds\n",
    "def expected_healthcare_cost(beds, demand, probabilities, excess_cost=1, shortage_cost=5):\n",
    "    # Cost of excess beds (beds > demand)\n",
    "    excess = np.maximum(0, beds - demand)\n",
    "    # Cost of bed shortage (demand > beds)\n",
    "    shortage = np.maximum(0, demand - beds)\n",
    "    \n",
    "    # Calculate total cost for each scenario\n",
    "    total_cost = excess_cost * excess + shortage_cost * shortage\n",
    "    \n",
    "    # Expected cost is the weighted sum of costs\n",
    "    return np.sum(probabilities * total_cost)\n",
    "\n",
    "# Find optimal number of beds by evaluating all possible bed quantities within constraints\n",
    "# We'll check all integer values within our constraints\n",
    "possible_beds = np.arange(min_beds, max_beds + 1)\n",
    "\n",
    "costs = []\n",
    "for beds in possible_beds:\n",
    "    cost = expected_healthcare_cost(beds, demand_q2, prob_q2, excess_cost, shortage_cost)\n",
    "    costs.append(cost)\n",
    "\n",
    "# Find the bed allocation with minimum expected cost\n",
    "min_cost_idx = np.argmin(costs)\n",
    "optimal_beds = possible_beds[min_cost_idx]\n",
    "min_cost = costs[min_cost_idx]\n",
    "\n",
    "print(f\"Optimal number of ICU beds: {optimal_beds}\")\n",
    "print(f\"Minimum expected cost: {min_cost:.2f}\")"
   ]
  },
  {
   "cell_type": "code",
   "execution_count": 20,
   "metadata": {},
   "outputs": [
    {
     "data": {
      "image/png": "[encoded data removed]",
      "text/plain": [
       "<Figure size 1000x600 with 1 Axes>"
      ]
     },
     "metadata": {},
     "output_type": "display_data"
    }
   ],
   "source": [
    "# Plot the expected costs against different bed allocations\n",
    "plt.figure(figsize=(10, 6))\n",
    "plt.plot(possible_beds, costs, 'g-', marker='o')\n",
    "plt.axvline(x=optimal_beds, color='r', linestyle='--', label=f'Optimal Beds = {optimal_beds}')\n",
    "plt.xlabel('Number of ICU Beds')\n",
    "plt.ylabel('Expected Cost')\n",
    "plt.title('Expected Cost vs Number of ICU Beds')\n",
    "plt.grid(True)\n",
    "plt.legend()\n",
    "plt.show()"
   ]
  },
  {
   "cell_type": "markdown",
   "metadata": {},
   "source": [
    "### Sensitivity Analysis\n",
    "\n",
    "Let's examine how the optimal bed allocation changes with different cost ratios. This is important because in healthcare settings, the actual cost ratio between excess beds and shortage may vary based on factors like hospital policy, budget constraints, and patient outcomes."
   ]
  },
  {
   "cell_type": "code",
   "execution_count": 21,
   "metadata": {},
   "outputs": [
    {
     "data": {
      "application/vnd.microsoft.datawrangler.viewer.v0+json": {
       "columns": [
        {
         "name": "index",
         "rawType": "int64",
         "type": "integer"
        },
        {
         "name": "Shortage to Excess Cost Ratio",
         "rawType": "int64",
         "type": "integer"
        },
        {
         "name": "Optimal Bed Allocation",
         "rawType": "int32",
         "type": "integer"
        }
       ],
       "conversionMethod": "pd.DataFrame",
       "ref": "4645a428-e8b8-416d-b7f0-207e1e373b1b",
       "rows": [
        [
         "0",
         "1",
         "35"
        ],
        [
         "1",
         "2",
         "42"
        ],
        [
         "2",
         "5",
         "42"
        ],
        [
         "3",
         "10",
         "50"
        ],
        [
         "4",
         "20",
         "50"
        ]
       ],
       "shape": {
        "columns": 2,
        "rows": 5
       }
      },
      "text/html": [
       "<div>\n",
       "<style scoped>\n",
       "    .dataframe tbody tr th:only-of-type {\n",
       "        vertical-align: middle;\n",
       "    }\n",
       "\n",
       "    .dataframe tbody tr th {\n",
       "        vertical-align: top;\n",
       "    }\n",
       "\n",
       "    .dataframe thead th {\n",
       "        text-align: right;\n",
       "    }\n",
       "</style>\n",
       "<table border=\"1\" class=\"dataframe\">\n",
       "  <thead>\n",
       "    <tr style=\"text-align: right;\">\n",
       "      <th></th>\n",
       "      <th>Shortage to Excess Cost Ratio</th>\n",
       "      <th>Optimal Bed Allocation</th>\n",
       "    </tr>\n",
       "  </thead>\n",
       "  <tbody>\n",
       "    <tr>\n",
       "      <th>0</th>\n",
       "      <td>1</td>\n",
       "      <td>35</td>\n",
       "    </tr>\n",
       "    <tr>\n",
       "      <th>1</th>\n",
       "      <td>2</td>\n",
       "      <td>42</td>\n",
       "    </tr>\n",
       "    <tr>\n",
       "      <th>2</th>\n",
       "      <td>5</td>\n",
       "      <td>42</td>\n",
       "    </tr>\n",
       "    <tr>\n",
       "      <th>3</th>\n",
       "      <td>10</td>\n",
       "      <td>50</td>\n",
       "    </tr>\n",
       "    <tr>\n",
       "      <th>4</th>\n",
       "      <td>20</td>\n",
       "      <td>50</td>\n",
       "    </tr>\n",
       "  </tbody>\n",
       "</table>\n",
       "</div>"
      ],
      "text/plain": [
       "   Shortage to Excess Cost Ratio  Optimal Bed Allocation\n",
       "0                              1                      35\n",
       "1                              2                      42\n",
       "2                              5                      42\n",
       "3                             10                      50\n",
       "4                             20                      50"
      ]
     },
     "metadata": {},
     "output_type": "display_data"
    },
    {
     "data": {
      "image/png": "[encoded data removed]",
      "text/plain": [
       "<Figure size 1000x600 with 1 Axes>"
      ]
     },
     "metadata": {},
     "output_type": "display_data"
    }
   ],
   "source": [
    "# Define different cost ratios to test\n",
    "shortage_to_excess_ratios = [1, 2, 5, 10, 20]\n",
    "\n",
    "optimal_allocations = []\n",
    "for ratio in shortage_to_excess_ratios:\n",
    "    costs = []\n",
    "    for beds in possible_beds:\n",
    "        cost = expected_healthcare_cost(beds, demand_q2, prob_q2, 1, ratio)\n",
    "        costs.append(cost)\n",
    "    \n",
    "    min_cost_idx = np.argmin(costs)\n",
    "    optimal_allocations.append(possible_beds[min_cost_idx])\n",
    "\n",
    "# Display the results\n",
    "results_df = pd.DataFrame({\n",
    "    'Shortage to Excess Cost Ratio': shortage_to_excess_ratios,\n",
    "    'Optimal Bed Allocation': optimal_allocations\n",
    "})\n",
    "display(results_df)\n",
    "\n",
    "# Plot the results\n",
    "plt.figure(figsize=(10, 6))\n",
    "plt.plot(shortage_to_excess_ratios, optimal_allocations, 'bs-')\n",
    "plt.xlabel('Shortage to Excess Cost Ratio')\n",
    "plt.ylabel('Optimal Number of ICU Beds')\n",
    "plt.title('Optimal Bed Allocation vs Cost Ratio')\n",
    "plt.grid(True)\n",
    "plt.show()"
   ]
  },
  {
   "cell_type": "markdown",
   "metadata": {},
   "source": [
    "### Analysis of Results\n",
    "\n",
    "The optimal number of ICU beds is determined by minimizing the expected cost, balancing the cost of having excess beds against the cost of not having enough beds for patients who need them.\n",
    "\n",
    "As expected, when the cost of bed shortage increases relative to the cost of excess beds, the optimal allocation tends to increase. This reflects the reality in healthcare settings where the consequences of not having enough beds for critical patients can be severe.\n",
    "\n",
    "The sensitivity analysis shows how the hospital administrator might adjust the bed allocation based on different priority levels for ensuring sufficient capacity versus managing resources efficiently."
   ]
  },
  {
   "cell_type": "markdown",
   "metadata": {},
   "source": [
    "### Memory Management"
   ]
  },
  {
   "cell_type": "code",
   "execution_count": 22,
   "metadata": {},
   "outputs": [
    {
     "name": "stdout",
     "output_type": "stream",
     "text": [
      "Memory usage before clearing: \n",
      "Memory usage:  231.56640625 MB\n",
      "Memory usage after clearing: \n",
      "Memory usage:  228.04296875 MB\n"
     ]
    }
   ],
   "source": [
    "def print_memory_usage():\n",
    "    \"\"\"\n",
    "    Prints the current memory usage of the process.\n",
    "    \"\"\"\n",
    "    print(\"Memory usage: \", psutil.Process().memory_info().rss / 1024 / 1024, \"MB\")\n",
    "\n",
    "def clear_memory():\n",
    "    \"\"\"\n",
    "    Clears the memory using garbage collection and prints memory usage before and after clearing.\n",
    "    \"\"\"\n",
    "    # Print memory usage before clearing\n",
    "    print(\"Memory usage before clearing: \")\n",
    "    print_memory_usage()\n",
    "    \n",
    "    # Perform garbage collection to clear memory\n",
    "    gc.collect()\n",
    "    \n",
    "    # Print memory usage after clearing\n",
    "    print(\"Memory usage after clearing: \")\n",
    "    print_memory_usage()\n",
    "\n",
    "if __name__ == \"__main__\":\n",
    "    # Call the clear_memory function to demonstrate memory clearing\n",
    "    clear_memory()"
   ]
  },
  {
   "cell_type": "markdown",
   "metadata": {},
   "source": [
    "## Conclusion\n",
    "\n",
    "In this assignment, I have addressed two stochastic optimization problems:\n",
    "\n",
    "1. **Supply Chain Optimization**: I determined that the optimal supply quantity is 330 units, which is at the upper limit of our constraints. This suggests that the demand distribution is skewed in a way that makes it more cost-effective to have higher inventory levels.\n",
    "\n",
    "2. **Healthcare Resource Allocation**: I found that the optimal ICU bed allocation depends on the relative costs of excess capacity versus shortage. With our baseline assumption that shortage is 5 times more costly than excess, the optimal allocation is 42 beds.\n",
    "\n",
    "Both problems demonstrate the value of stochastic programming in making decisions under uncertainty. By explicitly modeling the probability distributions of uncertain parameters and the costs of different outcomes, we can make more informed decisions that minimize expected costs."
   ]
  }
 ],
 "metadata": {
  "kernelspec": {
   "display_name": "base",
   "language": "python",
   "name": "python3"
  },
  "language_info": {
   "codemirror_mode": {
    "name": "ipython",
    "version": 3
   },
   "file_extension": ".py",
   "mimetype": "text/x-python",
   "name": "python",
   "nbconvert_exporter": "python",
   "pygments_lexer": "ipython3",
   "version": "3.11.7"
  }
 },
 "nbformat": 4,
 "nbformat_minor": 4
}
